{
  "nbformat": 4,
  "nbformat_minor": 0,
  "metadata": {
    "colab": {
      "name": "sumy_summarizers.ipynb",
      "provenance": [],
      "authorship_tag": "ABX9TyM+Zt3Zr7EUXPeGrr0C3sQm",
      "include_colab_link": true
    },
    "kernelspec": {
      "name": "python3",
      "display_name": "Python 3"
    }
  },
  "cells": [
    {
      "cell_type": "markdown",
      "metadata": {
        "id": "view-in-github",
        "colab_type": "text"
      },
      "source": [
        "<a href=\"https://colab.research.google.com/github/joshuabae/Summary-Models/blob/master/sumy_summarizers.ipynb\" target=\"_parent\"><img src=\"https://colab.research.google.com/assets/colab-badge.svg\" alt=\"Open In Colab\"/></a>"
      ]
    },
    {
      "cell_type": "code",
      "metadata": {
        "id": "xLLdy-D-m6s6",
        "colab_type": "code",
        "colab": {}
      },
      "source": [
        "!pip install sumy"
      ],
      "execution_count": 0,
      "outputs": []
    },
    {
      "cell_type": "code",
      "metadata": {
        "id": "wJedZzCYnioJ",
        "colab_type": "code",
        "outputId": "86dbabb7-7c6f-4b50-c7f9-3ab5ea6654d5",
        "colab": {
          "base_uri": "https://localhost:8080/",
          "height": 52
        }
      },
      "source": [
        "import nltk\n",
        "nltk.download('punkt')\n",
        "\n",
        "from sumy.parsers.plaintext import PlaintextParser\n",
        "from sumy.nlp.tokenizers import Tokenizer\n",
        "from sumy.summarizers.lex_rank import LexRankSummarizer\n",
        "from sumy.summarizers.luhn import LuhnSummarizer\n",
        "from sumy.summarizers.lsa import LsaSummarizer\n",
        "from sumy.summarizers.edmundson import EdmundsonSummarizer\n",
        "from sumy.summarizers.text_rank import TextRankSummarizer\n",
        "from sumy.summarizers.sum_basic import SumBasicSummarizer\n",
        "from sumy.summarizers.kl import KLSummarizer\n",
        "from sumy.summarizers.reduction import ReductionSummarizer"
      ],
      "execution_count": 0,
      "outputs": [
        {
          "output_type": "stream",
          "text": [
            "[nltk_data] Downloading package punkt to /root/nltk_data...\n",
            "[nltk_data]   Package punkt is already up-to-date!\n"
          ],
          "name": "stdout"
        }
      ]
    },
    {
      "cell_type": "code",
      "metadata": {
        "id": "klUtSGXvnX17",
        "colab_type": "code",
        "colab": {}
      },
      "source": [
        "from google.colab import drive\n",
        "drive.mount('/content/gdrive')\n",
        "%cd '/content/gdrive/'"
      ],
      "execution_count": 0,
      "outputs": []
    },
    {
      "cell_type": "code",
      "metadata": {
        "id": "vyz5Msu9ncHR",
        "colab_type": "code",
        "colab": {}
      },
      "source": [
        "apple_item1 = open('My Drive/AAPL_0000320193_20171230_item1.txt', encoding='utf-8').read().splitlines()\n",
        "apple_item2 = open('My Drive/AAPL_0000320193_20171230_item2.txt', encoding='utf-8').read().splitlines()\n",
        "apple_item3 = open('My Drive/AAPL_0000320193_20171230_item3.txt', encoding='utf-8').read().splitlines()\n",
        "apple_item4 = open('My Drive/AAPL_0000320193_20171230_item4.txt', encoding='utf-8').read().splitlines()\n",
        "apple_part2 = open('My Drive/AAPL_0000320193_20171230_part2.txt', encoding='utf-8').read().splitlines()\n",
        "\n",
        "entire_corpus = apple_item1 + apple_item2 + apple_item3 + apple_item4"
      ],
      "execution_count": 0,
      "outputs": []
    },
    {
      "cell_type": "code",
      "metadata": {
        "id": "lToSmzV-nI62",
        "colab_type": "code",
        "colab": {}
      },
      "source": [
        "def LexRankSummary(document, sentences):\n",
        "    parser = PlaintextParser.from_string(document,Tokenizer(\"english\"))\n",
        "    summarizer = LexRankSummarizer()\n",
        "    summary = summarizer(parser.document, sentences)\n",
        "    results = []\n",
        "    for sentence in summary:\n",
        "        results.append(sentence)\n",
        "    return results, type(results)\n",
        "\n",
        "def LuhnSummary(document, sentences):\n",
        "    parser = PlaintextParser.from_string(document,Tokenizer(\"english\"))\n",
        "    summarizer = LuhnSummarizer()\n",
        "    summary = summarizer(parser.document, sentences)\n",
        "    for sentence in summary:\n",
        "        print(sentence)\n",
        "    return summary\n",
        "\n",
        "def LsaSummary(document, sentences):\n",
        "    parser = PlaintextParser.from_string(document,Tokenizer(\"english\"))\n",
        "    summarizer = LsaSummarizer()\n",
        "    summary = summarizer(parser.document, sentences)\n",
        "    for sentence in summary:\n",
        "        print(sentence)\n",
        "    return None\n",
        "\n",
        "def EdmundsonSummary(document, sentences):\n",
        "    parser = PlaintextParser.from_string(document,Tokenizer(\"english\"))\n",
        "    summarizer = EdmundsonSummarizer()\n",
        "    summary = summarizer(parser.document, sentences)\n",
        "    for sentence in summary:\n",
        "        print(sentence)\n",
        "    return summary\n",
        "\n",
        "def TextRankSummary(document, sentences):\n",
        "    parser = PlaintextParser.from_string(document,Tokenizer(\"english\"))\n",
        "    summarizer = TextRankSummarizer()\n",
        "    summary = summarizer(parser.document, sentences)\n",
        "    for sentence in summary:\n",
        "        print(sentence)\n",
        "    return summary\n",
        "\n",
        "def SumBasicSummary(document, sentences):\n",
        "    parser = PlaintextParser.from_string(document,Tokenizer(\"english\"))\n",
        "    summarizer = SumBasicSummarizer()\n",
        "    summary = summarizer(parser.document, sentences)\n",
        "    for sentence in summary:\n",
        "        print(sentence)\n",
        "    return summary\n",
        "\n",
        "def KLSummary(document, sentences):\n",
        "    parser = PlaintextParser.from_string(document,Tokenizer(\"english\"))\n",
        "    summarizer = KLSummarizer()\n",
        "    summary = summarizer(parser.document, sentences)\n",
        "    for sentence in summary:\n",
        "        print(sentence)\n",
        "    return summary\n",
        "\n",
        "def ReductionSummary(document, sentences):\n",
        "    parser = PlaintextParser.from_string(document,Tokenizer(\"english\"))\n",
        "    summarizer = ReductionSummarizer()\n",
        "    summary = summarizer(parser.document, sentences)\n",
        "    for sentence in summary:\n",
        "        print(sentence)\n",
        "    return None"
      ],
      "execution_count": 0,
      "outputs": []
    },
    {
      "cell_type": "code",
      "metadata": {
        "id": "i5PLlVjF0Jn-",
        "colab_type": "code",
        "outputId": "67e6396a-30fc-40f2-d22e-4734973ba18c",
        "colab": {
          "base_uri": "https://localhost:8080/",
          "height": 248
        }
      },
      "source": [
        "print('LexRank')\n",
        "LexRankSummary(entire_corpus, 10)"
      ],
      "execution_count": 0,
      "outputs": [
        {
          "output_type": "stream",
          "text": [
            "LexRank\n"
          ],
          "name": "stdout"
        },
        {
          "output_type": "execute_result",
          "data": {
            "text/plain": [
              "([<Sentence: Certain of these outsourcing partners are the sole-sourced suppliers of components and manufacturers for many of the Company’s products.>,\n",
              "  <Sentence: There is no assurance that such subsidies will be continued at all or in the same amounts upon renewal of the Company’s agreements with these carriers or in agreements the Company enters into with new carriers.>,\n",
              "  <Sentence: While these arrangements help ensure the supply of components and finished goods, if these outsourcing partners or suppliers experience severe financial problems or other disruptions in their business, such continued supply could be reduced or terminated and the net realizable value of these assets could be negatively impacted.>,\n",
              "  <Sentence: There is no assurance that third-party developers will continue to develop and maintain software applications and services for the Company’s products.>,\n",
              "  <Sentence: Any such costs, which may rise in the future as a result of changes in these laws and regulations or in their interpretation, could individually or in the aggregate make the Company’s products and services less attractive to the Company’s customers, delay the introduction of new products in one or more regions, or cause the Company to change or limit its business practices.>,\n",
              "  <Sentence: If the Company fails to adequately comply with these rules and requirements, or if health data is handled in a manner not permitted by law or under the Company’s agreements with healthcare institutions, the Company could be subject to litigation or government investigations, may be liable for associated investigatory expenses, and could also incur significant fees or fines.>,\n",
              "  <Sentence: Any failure by the Company to comply with these public statements or with other federal, state or international privacy-related or data protection laws and regulations could result in proceedings against the Company by governmental entities or others.>,\n",
              "  <Sentence: Margins on sales of the Company’s products in foreign countries and on sales of products that include components obtained from foreign suppliers, could be materially adversely affected by foreign currency exchange rate fluctuations.>,\n",
              "  <Sentence: ', 'The Company spent $10.1 billion to repurchase shares of its common stock and paid dividends and dividend equivalents of $3.3 billion during the first quarter of 2018.>,\n",
              "  <Sentence: The Company’s effective tax rate for the first quarter of 2018 is slightly lower than the first quarter of 2017 due to the lower U.S. statutory blended tax rate, primarily offset by the remeasurement of deferred tax assets and liabilities.>],\n",
              " list)"
            ]
          },
          "metadata": {
            "tags": []
          },
          "execution_count": 34
        }
      ]
    },
    {
      "cell_type": "code",
      "metadata": {
        "id": "O8rijKpln6QW",
        "colab_type": "code",
        "outputId": "a60cf86e-7e29-45e5-fb52-c0d695351e4f",
        "colab": {
          "base_uri": "https://localhost:8080/",
          "height": 688
        }
      },
      "source": [
        "print('LexRank')\n",
        "LexRankSummary(entire_corpus, 10)\n",
        "print('\\n')\n",
        "print('Luhn')\n",
        "LuhnSummary(entire_corpus, 10)\n",
        "print('\\n')\n",
        "print('LSA')\n",
        "LsaSummary(entire_corpus, 10)\n",
        "print('\\n')\n",
        "print('TextRank')\n",
        "TextRankSummary(entire_corpus, 10)\n",
        "print('\\n')\n",
        "print('SumBasic')\n",
        "SumBasicSummary(entire_corpus, 10)\n",
        "print('\\n')\n",
        "print('KL')\n",
        "KLSummary(entire_corpus, 10)\n",
        "print('\\n')\n",
        "print('Reduction')\n",
        "ReductionSummary(entire_corpus, 10)"
      ],
      "execution_count": 0,
      "outputs": [
        {
          "output_type": "stream",
          "text": [
            "LexRank\n",
            "Certain of these outsourcing partners are the sole-sourced suppliers of components and manufacturers for many of the Company’s products.\n",
            "There is no assurance that such subsidies will be continued at all or in the same amounts upon renewal of the Company’s agreements with these carriers or in agreements the Company enters into with new carriers.\n",
            "While these arrangements help ensure the supply of components and finished goods, if these outsourcing partners or suppliers experience severe financial problems or other disruptions in their business, such continued supply could be reduced or terminated and the net realizable value of these assets could be negatively impacted.\n",
            "There is no assurance that third-party developers will continue to develop and maintain software applications and services for the Company’s products.\n",
            "Any such costs, which may rise in the future as a result of changes in these laws and regulations or in their interpretation, could individually or in the aggregate make the Company’s products and services less attractive to the Company’s customers, delay the introduction of new products in one or more regions, or cause the Company to change or limit its business practices.\n",
            "If the Company fails to adequately comply with these rules and requirements, or if health data is handled in a manner not permitted by law or under the Company’s agreements with healthcare institutions, the Company could be subject to litigation or government investigations, may be liable for associated investigatory expenses, and could also incur significant fees or fines.\n",
            "Any failure by the Company to comply with these public statements or with other federal, state or international privacy-related or data protection laws and regulations could result in proceedings against the Company by governmental entities or others.\n",
            "Margins on sales of the Company’s products in foreign countries and on sales of products that include components obtained from foreign suppliers, could be materially adversely affected by foreign currency exchange rate fluctuations.\n",
            "', 'The Company spent $10.1 billion to repurchase shares of its common stock and paid dividends and dividend equivalents of $3.3 billion during the first quarter of 2018.\n",
            "The Company’s effective tax rate for the first quarter of 2018 is slightly lower than the first quarter of 2017 due to the lower U.S. statutory blended tax rate, primarily offset by the remeasurement of deferred tax assets and liabilities.\n",
            "\n",
            "\n",
            "Luhn\n",
            "Diluted earnings per share is computed by dividing income available to common shareholders by the weighted-average number of shares of common stock outstanding during the period increased to include the number of additional shares of common stock that would have been outstanding if the potentially dilutive securities had been issued.\n",
            "When evaluating an investment for other-than-temporary impairment, the Company reviews factors such as the length of time and extent to which fair value has been below its cost basis, the financial condition of the issuer and any changes thereto, changes in market interest rates and the Company’s intent to sell, or whether it is more likely than not it will be required to sell the investment before recovery of the investment’s cost basis.\n",
            "', 'To help protect gross margins from fluctuations in foreign currency exchange rates, certain of the Company’s subsidiaries whose functional currency is the U.S. dollar may hedge a portion of forecasted foreign currency revenue, and subsidiaries whose functional currency is not the U.S. dollar and who sell in local currencies may hedge a portion of forecasted inventory purchases not denominated in the subsidiaries’ functional currencies.\n",
            "As of December 30, 2017 and September 30, 2017, the potential effects of these rights of set-off associated with the Company’s derivative contracts, including the effects of collateral, would be a reduction to both derivative assets and derivative liabilities of $1.3 billion and $1.4 billion, respectively, resulting in a net derivative liability of $66 million and a net derivative asset of $32 million, respectively.\n",
            "Under these agreements, the Company has agreed to indemnify such individuals to the fullest extent permitted by law against liabilities that arise by reason of their status as directors or officers of the Company and to advance expenses incurred by such individuals in connection with related legal proceedings.\n",
            "Any such costs, which may rise in the future as a result of changes in these laws and regulations or in their interpretation, could individually or in the aggregate make the Company’s products and services less attractive to the Company’s customers, delay the introduction of new products in one or more regions, or cause the Company to change or limit its business practices.\n",
            "These risks and uncertainties include, but are not limited to, macro-economic factors that could have an adverse effect on general retail activity, as well as the Company’s inability to manage costs associated with store construction and operation, the Company’s failure to manage relationships with its existing retail partners, more challenging environments in managing retail operations outside the U.S., costs associated with unanticipated fluctuations in the value of retail inventory, and the Company’s inability to obtain and renew leases in quality retail locations at a reasonable cost.\n",
            "If the Company fails to adequately comply with these rules and requirements, or if health data is handled in a manner not permitted by law or under the Company’s agreements with healthcare institutions, the Company could be subject to litigation or government investigations, may be liable for associated investigatory expenses, and could also incur significant fees or fines.\n",
            "', 'Further information regarding the Company’s debt issuances and related hedging activity can be found in Part I, Item 1 of this Form 10-Q in the Notes to Condensed Consolidated Financial Statements in Note 2, “Financial Instruments” and Note 6, “Debt.”', 'In May 2017, the Company’s Board of Directors increased the total capital return program from $250 billion to $300 billion, which included an increase in the share repurchase authorization from $175 billion to $210 billion of the Company’s common stock.\n",
            "', 'Note 1, “Summary of Significant Accounting Policies” in Part I, Item 1 of this Form 10-Q and in the Notes to Consolidated Financial Statements in Part II, Item 8 of the 2017 Form 10-K, and “Critical Accounting Policies and Estimates” in Part II, Item 7 of the 2017 Form 10-K describe the significant accounting policies and methods used in the preparation of the Company’s condensed consolidated financial statements.\n",
            "\n",
            "\n",
            "LSA\n",
            "The Company’s hedged term debt-related foreign currency transactions as of December 30, 2017 are expected to be recognized within 25 years.\n",
            "', 'The Company has entered, and in the future may enter, into accelerated share repurchase arrangements (“ASRs”) with financial institutions.\n",
            "This market has been contracting and is dominated by computer makers using competing operating systems, most notably Windows.\n",
            "', 'Future operating results depend upon the Company’s ability to obtain components in sufficient quantities on commercially reasonable terms.\n",
            "While these arrangements may lower operating costs, they also reduce the Company’s direct control over production and distribution.\n",
            "', 'The Company believes decisions by customers to purchase its hardware products depend in part on the availability of third-party software applications and services.\n",
            "', 'Many factors unique to retail operations, some of which are beyond the Company’s control, pose risks and uncertainties.\n",
            "In many cases, these laws apply not only to third-party transactions, but also may restrict transfers of PII among the Company and its international subsidiaries.\n",
            "A substantial majority of the Company’s outstanding trade receivables are not covered by collateral, third-party financing arrangements or credit insurance.\n",
            "These outsourcing partners acquire components and build product based on demand information supplied by the Company, which typically covers periods up to 150 days.\n"
          ],
          "name": "stdout"
        }
      ]
    },
    {
      "cell_type": "code",
      "metadata": {
        "id": "qI4buR-ho8AX",
        "colab_type": "code",
        "outputId": "facade67-9470-45f6-c5c0-24b6639bae52",
        "colab": {
          "base_uri": "https://localhost:8080/",
          "height": 917
        }
      },
      "source": [
        ""
      ],
      "execution_count": 0,
      "outputs": [
        {
          "output_type": "stream",
          "text": [
            "TextRank\n",
            "When evaluating an investment for other-than-temporary impairment, the Company reviews factors such as the length of time and extent to which fair value has been below its cost basis, the financial condition of the issuer and any changes thereto, changes in market interest rates and the Company’s intent to sell, or whether it is more likely than not it will be required to sell the investment before recovery of the investment’s cost basis.\n",
            "As of December 30, 2017 and September 30, 2017, the potential effects of these rights of set-off associated with the Company’s derivative contracts, including the effects of collateral, would be a reduction to both derivative assets and derivative liabilities of $1.3 billion and $1.4 billion, respectively, resulting in a net derivative liability of $66 million and a net derivative asset of $32 million, respectively.\n",
            "', 'On August 30, 2016, the European Commission announced its decision that Ireland granted state aid to the Company by providing tax opinions in 1991 and 2007 concerning the tax allocation of profits of the Irish branches of two subsidiaries of the Company (the “State Aid Decision”).\n",
            "', 'With respect to its Mac products, the Company believes the availability of third-party software applications and services depends in part on the developers’ perception and analysis of the relative benefits of developing, maintaining and upgrading such software for the Company’s products compared to Windows-based products.\n",
            "Any such costs, which may rise in the future as a result of changes in these laws and regulations or in their interpretation, could individually or in the aggregate make the Company’s products and services less attractive to the Company’s customers, delay the introduction of new products in one or more regions, or cause the Company to change or limit its business practices.\n",
            "These risks and uncertainties include, but are not limited to, macro-economic factors that could have an adverse effect on general retail activity, as well as the Company’s inability to manage costs associated with store construction and operation, the Company’s failure to manage relationships with its existing retail partners, more challenging environments in managing retail operations outside the U.S., costs associated with unanticipated fluctuations in the value of retail inventory, and the Company’s inability to obtain and renew leases in quality retail locations at a reasonable cost.\n",
            "Weakening of foreign currencies relative to the U.S. dollar adversely affects the U.S. dollar value of the Company’s foreign currency-denominated sales and earnings, and generally leads the Company to raise international pricing, potentially reducing demand for the Company’s products.\n",
            "', 'On August 30, 2016, the European Commission announced its decision that Ireland granted state aid to the Company by providing tax opinions in 1991 and 2007 concerning the tax allocation of profits of the Irish branches of two subsidiaries of the Company (the “State Aid Decision”).\n",
            "', 'Further information regarding the Company’s debt issuances and related hedging activity can be found in Part I, Item 1 of this Form 10-Q in the Notes to Condensed Consolidated Financial Statements in Note 2, “Financial Instruments” and Note 6, “Debt.”', 'In May 2017, the Company’s Board of Directors increased the total capital return program from $250 billion to $300 billion, which included an increase in the share repurchase authorization from $175 billion to $210 billion of the Company’s common stock.\n",
            "', 'Note 1, “Summary of Significant Accounting Policies” in Part I, Item 1 of this Form 10-Q and in the Notes to Consolidated Financial Statements in Part II, Item 8 of the 2017 Form 10-K, and “Critical Accounting Policies and Estimates” in Part II, Item 7 of the 2017 Form 10-K describe the significant accounting policies and methods used in the preparation of the Company’s condensed consolidated financial statements.\n",
            "\n",
            "\n",
            "SumBasic\n",
            "These instruments may offset a portion of changes in income or expense, or changes in fair value of the Company’s term debt or investments.\n",
            "Upon recognition, $7.7 billion of the unrecognized tax benefits would affect the Company’s effective tax rate.\n",
            "', 'The Company had 273.4 million shares reserved for future issuance under its stock plans as of December 30, 2017.\n",
            "The Company does not currently utilize any other off-balance sheet financing arrangements.\n",
            "Advertising expenses are generally included in the geographic segment in which the expenditures are incurred.\n",
            "Margins on sales of the Company’s products in foreign countries and on sales of products that include components obtained from foreign suppliers, could be materially adversely affected by foreign currency exchange rate fluctuations.\n",
            "While the Company has procedures to monitor and limit exposure to credit risk on its trade and vendor non-trade receivables, as well as long-term prepayments, there can be no assurance such procedures will effectively limit its credit risk and avoid losses.\n",
            "', 'Europe net sales increased during the first quarter of 2018 compared to the same quarter in 2017 due primarily to higher net sales of iPhone and Services.\n",
            "dollar.\n",
            "', 'In connection with the State Aid Decision, Ireland is still computing the recovery amount.\n",
            "\n",
            "\n",
            "KL\n",
            "', 'Basic earnings per share is computed by dividing income available to common shareholders by the weighted-average number of shares of common stock outstanding during the period.\n",
            "The ASRs met all of the applicable criteria for equity classification, and therefore were not accounted for as derivative instruments.\n",
            "', 'The fair value as of the respective vesting dates of RSUs was $3.1 billion and $2.2 billion for the three months ended December 30, 2017 and December 31, 2016, respectively.\n",
            "On May 18, 2015, the U.S. Court of Appeals for the Federal Circuit affirmed in part, and reversed in part, the decision of the District Court.\n",
            "Operating income for each segment includes net sales to third parties, related cost of sales and operating expenses directly attributable to the segment.\n",
            "', 'The Company is subject to laws and regulations worldwide, changes to which could increase the Company’s costs and individually or in the aggregate adversely affect the Company’s business.\n",
            "Noncompliance could result in significant penalties or legal liability.\n",
            "', 'Net sales increased 13% or $9.9 billion during the first quarter of 2018 compared to the same quarter in 2017, primarily driven by growth in iPhone, Other Products and Services.\n",
            "', 'Japan net sales increased during the first quarter of 2018 compared to the same quarter in 2017 due primarily to higher net sales of iPhone, partially offset by the weakness in the Japanese yen relative to the U.S.\n",
            "', 'Rest of Asia Pacific net sales increased during the first quarter of 2018 compared to the same quarter in 2017 due primarily to higher net sales of iPhone and Services.\n",
            "\n",
            "\n",
            "Reduction\n",
            "', 'On August 30, 2016, the European Commission announced its decision that Ireland granted state aid to the Company by providing tax opinions in 1991 and 2007 concerning the tax allocation of profits of the Irish branches of two subsidiaries of the Company (the “State Aid Decision”).\n",
            "The Company believes the State Aid Decision to be without merit and appealed to the General Court of the Court of Justice of the European Union.\n",
            "Although Ireland is still computing the recovery amount, the Company expects the amount to be in line with the European Commission’s announced recovery amount of €13 billion, plus interest of €1 billion.\n",
            "Under these agreements, the Company has agreed to indemnify such individuals to the fullest extent permitted by law against liabilities that arise by reason of their status as directors or officers of the Company and to advance expenses incurred by such individuals in connection with related legal proceedings.\n",
            "It is not possible to determine the maximum potential amount of payments the Company could be required to make under these agreements due to the limited history of prior indemnification claims and the unique facts and circumstances involved in each claim.\n",
            "', 'On August 30, 2016, the European Commission announced its decision that Ireland granted state aid to the Company by providing tax opinions in 1991 and 2007 concerning the tax allocation of profits of the Irish branches of two subsidiaries of the Company (the “State Aid Decision”).\n",
            "The Company believes the State Aid Decision to be without merit and appealed to the General Court of the Court of Justice of the European Union.\n",
            "Although Ireland is still computing the recovery amount, the Company expects the amount to be in line with the European Commission’s announced recovery amount of €13 billion, plus interest of €1 billion.\n",
            "Under these agreements, the Company has agreed to indemnify such individuals to the fullest extent permitted by law against liabilities that arise by reason of their status as directors or officers of the Company and to advance expenses incurred by such individuals in connection with related legal proceedings.\n",
            "It is not possible to determine the maximum potential amount of payments the Company could be required to make under these agreements due to the limited history of prior indemnification claims and the unique facts and circumstances involved in each claim.\n"
          ],
          "name": "stdout"
        }
      ]
    }
  ]
}