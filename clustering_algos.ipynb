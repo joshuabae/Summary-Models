{
  "nbformat": 4,
  "nbformat_minor": 0,
  "metadata": {
    "colab": {
      "name": "clustering_algos.ipynb",
      "provenance": [],
      "authorship_tag": "ABX9TyMk3BEoqElg+fscHOwIYJ3A",
      "include_colab_link": true
    },
    "kernelspec": {
      "name": "python3",
      "display_name": "Python 3"
    }
  },
  "cells": [
    {
      "cell_type": "markdown",
      "metadata": {
        "id": "view-in-github",
        "colab_type": "text"
      },
      "source": [
        "<a href=\"https://colab.research.google.com/github/joshuabae/Summary-Models/blob/master/clustering_algos.ipynb\" target=\"_parent\"><img src=\"https://colab.research.google.com/assets/colab-badge.svg\" alt=\"Open In Colab\"/></a>"
      ]
    },
    {
      "cell_type": "code",
      "metadata": {
        "id": "IDI5aYK9GTh_",
        "colab_type": "code",
        "colab": {}
      },
      "source": [
        "!pip install tensorflow==1.14\n",
        "!pip install tensorflow_hub\n",
        "!pip install -U wget\n",
        "!pip install -U spacy\n",
        "!python -m spacy download en_core_web_md\n",
        "!pip install rouge_score"
      ],
      "execution_count": 0,
      "outputs": []
    },
    {
      "cell_type": "code",
      "metadata": {
        "id": "4fnijRtyGgSK",
        "colab_type": "code",
        "colab": {}
      },
      "source": [
        "import re\n",
        "import os\n",
        "from zipfile import ZipFile\n",
        "import wget\n",
        "import glob\n",
        "\n",
        "from rouge_score import rouge_scorer\n",
        "from gensim.summarization.summarizer import summarize\n",
        "from tqdm import tqdm\n",
        "import spacy\n",
        "\n",
        "import nltk\n",
        "#nltk.download('wordnet')\n",
        "#nltk.download('stopwords')\n",
        "import numpy as np\n",
        "from collections import defaultdict\n",
        "import random\n",
        "\n",
        "from nltk.tokenize import word_tokenize\n",
        "from nltk.tokenize import sent_tokenize\n",
        "from nltk.stem.snowball import SnowballStemmer\n",
        "from nltk.stem import WordNetLemmatizer\n",
        "from nltk.corpus import stopwords\n",
        "\n",
        "import tensorflow_hub as hub\n",
        "import tensorflow as tf\n",
        "import en_core_web_sm\n",
        "\n",
        "from sklearn.datasets import make_blobs\n",
        "from sklearn.cluster import KMeans\n",
        "from sklearn.metrics import pairwise_distances_argmin_min\n",
        "from sklearn.metrics import pairwise_distances\n",
        "from sklearn.metrics.pairwise import cosine_similarity\n",
        "from sklearn.metrics import silhouette_score, silhouette_samples\n",
        "from sklearn.cluster import SpectralClustering\n",
        "from sklearn.cluster import AgglomerativeClustering\n",
        "from sklearn.cluster import MeanShift\n"
      ],
      "execution_count": 0,
      "outputs": []
    },
    {
      "cell_type": "code",
      "metadata": {
        "id": "USwtY3r_Gjc8",
        "colab_type": "code",
        "outputId": "c2e6c7ef-1140-4ad0-f5c0-d57312e59c65",
        "colab": {
          "base_uri": "https://localhost:8080/",
          "height": 142
        }
      },
      "source": [
        "from google.colab import drive\n",
        "drive.mount('/content/gdrive')\n",
        "%cd '/content/gdrive/'"
      ],
      "execution_count": 0,
      "outputs": [
        {
          "output_type": "stream",
          "text": [
            "Go to this URL in a browser: https://accounts.google.com/o/oauth2/auth?client_id=947318989803-6bn6qk8qdgf4n4g3pfee6491hc0brc4i.apps.googleusercontent.com&redirect_uri=urn%3aietf%3awg%3aoauth%3a2.0%3aoob&response_type=code&scope=email%20https%3a%2f%2fwww.googleapis.com%2fauth%2fdocs.test%20https%3a%2f%2fwww.googleapis.com%2fauth%2fdrive%20https%3a%2f%2fwww.googleapis.com%2fauth%2fdrive.photos.readonly%20https%3a%2f%2fwww.googleapis.com%2fauth%2fpeopleapi.readonly\n",
            "\n",
            "Enter your authorization code:\n",
            "··········\n",
            "Mounted at /content/gdrive\n",
            "/content/gdrive\n"
          ],
          "name": "stdout"
        }
      ]
    },
    {
      "cell_type": "code",
      "metadata": {
        "id": "Ki0Cx95bIID4",
        "colab_type": "code",
        "outputId": "eb748edd-b387-4d25-bebd-ddd8cce7cea1",
        "colab": {
          "base_uri": "https://localhost:8080/",
          "height": 34
        }
      },
      "source": [
        "apple_item1 = open('My Drive/AAPL_0000320193_20171230_item1.txt', encoding='utf-8').read().splitlines()\n",
        "apple_item2 = open('My Drive/AAPL_0000320193_20171230_item2.txt', encoding='utf-8').read().splitlines()\n",
        "apple_item3 = open('My Drive/AAPL_0000320193_20171230_item3.txt', encoding='utf-8').read().splitlines()\n",
        "apple_item4 = open('My Drive/AAPL_0000320193_20171230_item4.txt', encoding='utf-8').read().splitlines()\n",
        "apple_part2 = open('My Drive/AAPL_0000320193_20171230_part2.txt', encoding='utf-8').read().splitlines()\n",
        "\n",
        "apple_part1 = apple_item1 + apple_item2 + apple_item3 + apple_item4"
      ],
      "execution_count": 0,
      "outputs": [
        {
          "output_type": "stream",
          "text": [
            "195\n"
          ],
          "name": "stdout"
        }
      ]
    },
    {
      "cell_type": "code",
      "metadata": {
        "id": "tlQ149dhI8xT",
        "colab_type": "code",
        "outputId": "241766f9-abf2-4335-d2b2-aab08479f6f3",
        "colab": {
          "base_uri": "https://localhost:8080/",
          "height": 34
        }
      },
      "source": [
        "apple_item1_text = open('My Drive/AAPL_0000320193_20171230_item1.txt', encoding='utf-8').read()\n",
        "apple_item2_text = open('My Drive/AAPL_0000320193_20171230_item2.txt', encoding='utf-8').read()"
      ],
      "execution_count": 0,
      "outputs": [
        {
          "output_type": "execute_result",
          "data": {
            "text/plain": [
              "'S'"
            ]
          },
          "metadata": {
            "tags": []
          },
          "execution_count": 20
        }
      ]
    },
    {
      "cell_type": "code",
      "metadata": {
        "id": "LdddI5vaZtM6",
        "colab_type": "code",
        "colab": {}
      },
      "source": [
        ""
      ],
      "execution_count": 0,
      "outputs": []
    },
    {
      "cell_type": "code",
      "metadata": {
        "id": "I7V5F43jGpBV",
        "colab_type": "code",
        "colab": {}
      },
      "source": [
        "elmo = hub.Module(\"https://tfhub.dev/google/elmo/3\", trainable=True)\n",
        "embeddings = elmo(apple_part1, signature = \"default\", as_dict=True)['elmo']"
      ],
      "execution_count": 0,
      "outputs": []
    },
    {
      "cell_type": "code",
      "metadata": {
        "id": "mn4Fhb2pGrEf",
        "colab_type": "code",
        "outputId": "a5ceb008-a67f-4d1c-d178-8a3b17b0e3dc",
        "colab": {
          "base_uri": "https://localhost:8080/",
          "height": 34
        }
      },
      "source": [
        "print(embeddings.shape)"
      ],
      "execution_count": 0,
      "outputs": [
        {
          "output_type": "stream",
          "text": [
            "(195, 233, 1024)\n"
          ],
          "name": "stdout"
        }
      ]
    },
    {
      "cell_type": "code",
      "metadata": {
        "id": "tc8W33_nGu44",
        "colab_type": "code",
        "colab": {}
      },
      "source": [
        "def elmo_vectors(x):\n",
        "  with tf.Session() as sess:\n",
        "    sess.run(tf.global_variables_initializer())\n",
        "    sess.run(tf.tables_initializer())\n",
        "    \n",
        "    # return average of ELMo features\n",
        "    return sess.run(tf.reduce_mean(embeddings,1))\n"
      ],
      "execution_count": 0,
      "outputs": []
    },
    {
      "cell_type": "code",
      "metadata": {
        "id": "Flp4nXWnMFTt",
        "colab_type": "code",
        "colab": {}
      },
      "source": [
        "elmo_train = elmo_vectors(embeddings)"
      ],
      "execution_count": 0,
      "outputs": []
    },
    {
      "cell_type": "code",
      "metadata": {
        "id": "cu1_YpMhG3lA",
        "colab_type": "code",
        "colab": {}
      },
      "source": [
        "sentences = apple_part1"
      ],
      "execution_count": 0,
      "outputs": []
    },
    {
      "cell_type": "code",
      "metadata": {
        "id": "_XzdAHd5G-W8",
        "colab_type": "code",
        "outputId": "d7927a3d-774c-492b-8502-a567e7f30f6e",
        "colab": {
          "base_uri": "https://localhost:8080/",
          "height": 213
        }
      },
      "source": [
        "## List <String> model(String doc_text, int num_sents)\n",
        "\n",
        "\"\"\"\n",
        "The order of the candidate sentences in the summary is determined by the positions of the\n",
        "sentences in their corresponding clusters in the original email. For example,\n",
        "a candidate sentence is chosen as the first line in the summary if most of the\n",
        "sentences that lie in its cluster occur at the beginning of the email.\n",
        "\n",
        "Sentences:\n",
        "1. Apple inc. designs, manufactures and markets mobile communication...\n",
        "2. The company's business is subject to risks of international operations...\n",
        "3. During the three months ended December 30, 2017, cash generated by operating\n",
        "activities of $28.3 billion was a result of $20.1 billion of net income\n",
        "\"\"\"\n",
        "\n",
        "def kmeans(doc_text, num_sents):\n",
        "  kmeans = KMeans(num_sents).fit(elmo_train)\n",
        "  # for each cluster, it finds the sentences associated with it,\n",
        "  # and chooses the median one\n",
        "  avg = []\n",
        "  for j in range(num_sents):\n",
        "      idx = np.where(kmeans.labels_ == j)[0]\n",
        "      avg.append(np.median(idx))\n",
        "  closest, _ = pairwise_distances_argmin_min(kmeans.cluster_centers_, elmo_train)\n",
        "  ordering = sorted(range(num_sents), key=lambda k: avg[k])\n",
        "  summary = [doc_text[closest[idx]] for idx in ordering]\n",
        "  return summary\n",
        "\n",
        "kmeans(sentences, 10)"
      ],
      "execution_count": 0,
      "outputs": [
        {
          "output_type": "execute_result",
          "data": {
            "text/plain": [
              "['The Company may use derivatives to partially offset its business exposure to foreign currency and interest rate risk on expected future cash flows, on net investments in certain foreign subsidiaries and on certain existing assets and liabilities. However, the Company may choose not to hedge certain exposures for a variety of reasons including, but not limited to, accounting considerations and the prohibitive economic cost of hedging particular exposures. There can be no assurance the hedges will offset more than a portion of the financial impact resulting from movements in foreign currency exchange or interest rates.\\n',\n",
              " 'The Company considers the declines in market value of its marketable securities investment portfolio to be temporary in nature. The Company typically invests in highly rated securities, and its investment policy generally limits the amount of credit exposure to any one issuer. The policy generally requires investments to be investment grade, with the primary objective of minimizing the potential risk of principal loss. Fair values were determined for each individual security in the investment portfolio. When evaluating an investment for other-than-temporary impairment, the Company reviews factors such as the length of time and extent to which fair value has been below its cost basis, the financial condition of the issuer and any changes thereto, changes in market interest rates and the Company’s intent to sell, or whether it is more likely than not it will be required to sell the investment before recovery of the investment’s cost basis. As of December 30, 2017, the Company does not consider any of its investments to be other-than-temporarily impaired.\\n',\n",
              " 'Apple Inc. and its wholly-owned subsidiaries (collectively “Apple” or the “Company”) designs, manufactures and markets mobile communication and media devices and personal computers, and sells a variety of related software, services, accessories, networking solutions and third-party digital content and applications. The Company’s products and services include iPhone®, iPad®, Mac®, Apple Watch®, Apple TV®, a portfolio of consumer and professional software applications, iOS, macOS®, watchOS® and tvOS™ operating systems, iCloud®, Apple Pay® and a variety of accessory, service and support offerings. The Company sells and delivers digital content and applications through the iTunes Store®, App Store®, Mac App Store, TV App Store, iBooks Store® and Apple Music® (collectively “Digital Content and Services”). The Company sells its products worldwide through its retail stores, online stores and direct sales force, as well as through third-party cellular network carriers, wholesalers, retailers and resellers. In addition, the Company sells a variety of third-party Apple-compatible products, including application software and various accessories through its retail and online stores. The Company sells to consumers, small and mid-sized businesses and education, enterprise and government customers.\\n',\n",
              " 'On August 30, 2016, the European Commission announced its decision that Ireland granted state aid to the Company by providing tax opinions in 1991 and 2007 concerning the tax allocation of profits of the Irish branches of two subsidiaries of the Company (the “State Aid Decision”). The State Aid Decision orders Ireland to calculate and recover additional taxes from the Company for the period June 2003 through December 2014. Irish legislative changes, effective as of January 2015, eliminated the application of the tax opinions from that date forward. The Company believes the State Aid Decision to be without merit and appealed to the General Court of the Court of Justice of the European Union. Ireland has also appealed the State Aid Decision. Although Ireland is still computing the recovery amount, the Company expects the amount to be in line with the European Commission’s announced recovery amount of €13 billion, plus interest of €1 billion. Once the recovery amount is finalized by Ireland, the Company anticipates funding it by placing amounts into escrow in 2018, pending conclusion of all appeals. The Company believes that any incremental Irish corporate income taxes potentially due related to the State Aid Decision would be creditable against U.S. taxes.\\n',\n",
              " 'The Company has entered into certain off-balance sheet arrangements which require the future purchase of goods or services (“Unconditional Purchase Obligations”). The Company’s Unconditional Purchase Obligations primarily consist of payments for supplier arrangements, internet and telecommunication services and intellectual property licenses. As of December 30, 2017, the Company’s total future payments under noncancelable Unconditional Purchase Obligations having a remaining term in excess of one year were $8.7 billion.\\n',\n",
              " 'With respect to its Mac products, the Company believes the availability of third-party software applications and services depends in part on the developers’ perception and analysis of the relative benefits of developing, maintaining and upgrading such software for the Company’s products compared to Windows-based products. This analysis may be based on factors such as the market position of the Company and its products, the anticipated revenue that may be generated, expected future growth of Mac sales and the costs of developing such applications and services. If the Company’s minority share of the global personal computer market causes developers to question the Mac’s prospects, developers could be less inclined to develop or upgrade software for the Company’s Mac products and more inclined to devote their resources to developing and upgrading software for the larger Windows market.\\n',\n",
              " 'The Company’s business requires it to use and store confidential information, including, among other things, personally identifiable information (“PII”) with respect to the Company’s customers and employees. The Company devotes significant resources to network and data security, including through the use of encryption and other security measures intended to protect its systems and data. But these measures cannot provide absolute security, and losses or unauthorized access to or releases of confidential information may still occur, which could materially adversely affect the Company’s reputation, financial condition and operating results.\\n',\n",
              " 'The Company manages its business primarily on a geographic basis. The Company’s reportable segments consist of the Americas, Europe, Greater China, Japan and Rest of Asia Pacific. Americas includes both North and South America. Europe includes European countries, as well as India, the Middle East and Africa. Greater China includes China, Hong Kong and Taiwan. Rest of Asia Pacific includes Australia and those Asian countries not included in the Company’s other reportable segments. Although the reportable segments provide similar hardware and software products and similar services, each one is managed separately to better align with the location of the Company’s customers and distribution partners and the unique market dynamics of each geographic region. The accounting policies of the various segments are the same as those described in Note 1, “Summary of Significant Accounting Policies” of the Notes to Consolidated Financial Statements in Part II, Item 8 of the 2017 Form 10-K.\\n',\n",
              " 'Note 4 – Acquired Intangible Assets\\n',\n",
              " 'During the three months ended December 30, 2017, cash generated by operating activities of $28.3 billion was a result of $20.1 billion of net income and an increase in the net change in operating assets and liabilities of $37.9 billion, partially offset by non-cash adjustments to net income of $29.7 billion. Cash used in investing activities of $13.6 billion during the three months ended December 30, 2017 consisted primarily of cash used for purchases of marketable securities, net of sales and maturities, of $10.4 billion and cash used to acquire property, plant and equipment of $2.8 billion. Cash used in financing activities of $7.5 billion during the three months ended December 30, 2017 consisted primarily of cash used to repurchase common stock of $10.1 billion and cash used to pay dividends and dividend equivalents of $3.3 billion, partially offset by proceeds from the issuance of term debt, net of $7.0 billion.\\n']"
            ]
          },
          "metadata": {
            "tags": []
          },
          "execution_count": 24
        }
      ]
    },
    {
      "cell_type": "code",
      "metadata": {
        "id": "5rygkH-nV36k",
        "colab_type": "code",
        "outputId": "0a01c317-b534-46e5-d6fc-3dc09e27ce1c",
        "colab": {
          "base_uri": "https://localhost:8080/",
          "height": 213
        }
      },
      "source": [
        "# default: ward linkage\n",
        "def agg_clustering(doc_text, num_sents): \n",
        "  #average = []\n",
        "  summaries = defaultdict(list)\n",
        "  map = defaultdict(list)\n",
        "  # linkages: ward, complete, single\n",
        "  ac = AgglomerativeClustering(n_clusters=num_sents, linkage='ward').fit_predict(elmo_train)\n",
        "  for i in range(len(ac)):\n",
        "    map[ac[i]].append(doc_text[i])\n",
        "  for key in map:\n",
        "    summaries[num_sents].append(random.choice(map[key]))\n",
        "\n",
        "  return summaries[num_sents]\n",
        "\n",
        "agg_clustering(sentences, 10)"
      ],
      "execution_count": 0,
      "outputs": [
        {
          "output_type": "execute_result",
          "data": {
            "text/plain": [
              "['Debt',\n",
              " 'Apple Inc. and its wholly-owned subsidiaries (collectively “Apple” or the “Company”) designs, manufactures and markets mobile communication and media devices and personal computers, and sells a variety of related software, services, accessories, networking solutions and third-party digital content and applications. The Company’s products and services include iPhone®, iPad®, Mac®, Apple Watch®, Apple TV®, a portfolio of consumer and professional software applications, iOS, macOS®, watchOS® and tvOS™ operating systems, iCloud®, Apple Pay® and a variety of accessory, service and support offerings. The Company sells and delivers digital content and applications through the iTunes Store®, App Store®, Mac App Store, TV App Store, iBooks Store® and Apple Music® (collectively “Digital Content and Services”). The Company sells its products worldwide through its retail stores, online stores and direct sales force, as well as through third-party cellular network carriers, wholesalers, retailers and resellers. In addition, the Company sells a variety of third-party Apple-compatible products, including application software and various accessories through its retail and online stores. The Company sells to consumers, small and mid-sized businesses and education, enterprise and government customers.',\n",
              " 'iPad net sales increased during the first quarter of 2018 compared to the same quarter in 2017 due primarily to a different mix of iPads with higher average selling prices.',\n",
              " 'The Company has entered, and in the future may enter, into accelerated share repurchase arrangements (“ASRs”) with financial institutions. In exchange for up-front payments, the financial institutions deliver shares of the Company’s common stock during the purchase periods of each ASR. The total number of shares ultimately delivered, and therefore the average repurchase price paid per share, is determined at the end of the applicable purchase period of each ASR based on the volume-weighted average price of the Company’s common stock during that period. The shares received are retired in the periods they are delivered, and the up-front payments are accounted for as a reduction to shareholders’ equity in the Company’s Condensed Consolidated Balance Sheets in the periods the payments are made. The Company reflects the ASRs as a repurchase of common stock in the period delivered for purposes of calculating earnings per share and as forward contracts indexed to its own common stock. The ASRs met all of the applicable criteria for equity classification, and therefore were not accounted for as derivative instruments.',\n",
              " 'To help protect gross margins from fluctuations in foreign currency exchange rates, certain of the Company’s subsidiaries whose functional currency is the U.S. dollar may hedge a portion of forecasted foreign currency revenue, and subsidiaries whose functional currency is not the U.S. dollar and who sell in local currencies may hedge a portion of forecasted inventory purchases not denominated in the subsidiaries’ functional currencies. The Company may enter into forward contracts, option contracts or other instruments to manage this risk and may designate these instruments as cash flow hedges. The Company typically hedges portions of its forecasted foreign currency exposure associated with revenue and inventory purchases, typically for up to 12 months.',\n",
              " 'On August 30, 2016, the European Commission announced its decision that Ireland granted state aid to the Company by providing tax opinions in 1991 and 2007 concerning the tax allocation of profits of the Irish branches of two subsidiaries of the Company (the “State Aid Decision”). The State Aid Decision orders Ireland to calculate and recover additional taxes from the Company for the period June 2003 through December 2014. Irish legislative changes, effective as of January 2015, eliminated the application of the tax opinions from that date forward. The Company believes the State Aid Decision to be without merit and appealed to the General Court of the Court of Justice of the European Union. Ireland has also appealed the State Aid Decision. Although Ireland is still computing the recovery amount, the Company expects the amount to be in line with the European Commission’s announced recovery amount of €13 billion, plus interest of €1 billion. Once the recovery amount is finalized by Ireland, the Company anticipates funding it by placing amounts into escrow in 2018, pending conclusion of all appeals. The Company believes that any incremental Irish corporate income taxes potentially due related to the State Aid Decision would be creditable against U.S. taxes.',\n",
              " 'The Company relies on sole-sourced outsourcing partners in the U.S., Asia and Europe to supply and manufacture many critical components, and on outsourcing partners primarily located in Asia, for final assembly of substantially all of the Company’s hardware products. Any failure of these partners to perform may have a negative impact on the Company’s cost or supply of components or finished goods. In addition, manufacturing or logistics in these locations or transit to final destinations may be disrupted for a variety of reasons including, but not limited to, natural and man-made disasters, information technology system failures, commercial disputes, military actions or economic, business, labor, environmental, public health, or political issues.',\n",
              " 'With respect to iOS devices, the Company relies on the continued availability and development of compelling and innovative software applications, including applications distributed through the App Store. iOS devices are subject to rapid technological change, and, if third-party developers are unable to or choose not to keep up with this pace of change, third-party applications might not successfully operate and may result in dissatisfied customers. As with applications for the Company’s Mac products, the availability and development of these applications also depend on developers’ perceptions and analysis of the relative benefits of developing, maintaining or upgrading software for the Company’s iOS devices rather than its competitors’ platforms, such as Android. If developers focus their efforts on these competing platforms, the availability and quality of applications for the Company’s iOS devices may suffer.',\n",
              " 'On August 24, 2012, a jury returned a verdict awarding the Company $1.05 billion in its lawsuit against Samsung Electronics Co., Ltd. and affiliated parties in the United States District Court, Northern District of California, San Jose Division. On March 6, 2014, the District Court entered final judgment in favor of the Company in the amount of approximately $930 million. On May 18, 2015, the U.S. Court of Appeals for the Federal Circuit affirmed in part, and reversed in part, the decision of the District Court. As a result, the Court of Appeals ordered entry of final judgment on damages in the amount of approximately $548 million, with the District Court to determine supplemental damages and interest, as well as damages owed for products subject to the reversal in part. Samsung paid $548 million to the Company in December 2015, which was included in net sales in the Condensed Consolidated Statement of Operations. On December 6, 2016, the U.S. Supreme Court remanded the case to the U.S. Court of Appeals for the Federal Circuit for further proceedings related to the $548 million in damages. On February 7, 2017, the U.S. Court of Appeals for the Federal Circuit remanded the case to the District Court to determine what additional proceedings, if any, are needed. On October 22, 2017, on remand from the U.S. Supreme Court, the District Court ordered a new trial on damages.',\n",
              " 'During the three months ended December 31, 2016, cash generated by operating activities of $27.2 billion was a result of $17.9 billion of net income, non-cash adjustments to net income of $5.4 billion and an increase in the net change in operating assets and liabilities of $3.9 billion. Cash used in investing activities of $19.1 billion during the three months ended December 31, 2016 consisted primarily of cash used for purchases of marketable securities, net of sales and maturities, of $15.6 billion and cash used to acquire property, plant and equipment of $3.3 billion. Cash used in financing activities of $12.2 billion during the three months ended December 31, 2016 consisted primarily of cash used to repurchase common stock of $10.9 billion and cash used to pay dividends and dividend equivalents of $3.1 billion, partially offset by proceeds from commercial paper, net of $2.4 billion.']"
            ]
          },
          "metadata": {
            "tags": []
          },
          "execution_count": 36
        }
      ]
    },
    {
      "cell_type": "code",
      "metadata": {
        "id": "P9hILlQ3uQ26",
        "colab_type": "code",
        "outputId": "207f6600-2b61-404b-9528-adcbd9ab994e",
        "colab": {
          "base_uri": "https://localhost:8080/",
          "height": 213
        }
      },
      "source": [
        "def spectral_clustering(doc_text, num_sents): \n",
        "  summaries = defaultdict(list)\n",
        "  map = defaultdict(list)\n",
        "  ac = SpectralClustering(n_clusters=num_sents).fit_predict(elmo_train)  \n",
        "  for i in range(len(ac)):\n",
        "     map[ac[i]].append(sentences[i])\n",
        "  for key in map:\n",
        "     summaries[num_sents].append(random.choice(map[key]))\n",
        "  return summaries[num_sents]\n",
        "\n",
        "spectral_clustering(sentences, 10)"
      ],
      "execution_count": 0,
      "outputs": [
        {
          "output_type": "execute_result",
          "data": {
            "text/plain": [
              "['See accompanying Notes to Condensed Consolidated Financial Statements.\\n',\n",
              " 'The Company designs, manufactures and markets mobile communication and media devices and personal computers, and sells a variety of related software, services, accessories, networking solutions and third-party digital content and applications. The Company’s products and services include iPhone, iPad, Mac, Apple Watch, Apple TV, a portfolio of consumer and professional software applications, iOS, macOS, watchOS and tvOS operating systems, iCloud, Apple Pay and a variety of accessory, service and support offerings. The Company sells and delivers digital content and applications through the iTunes Store, App Store, Mac App Store, TV App Store, iBooks Store and Apple Music (collectively “Digital Content and Services”). The Company sells its products worldwide through its retail stores, online stores and direct sales force, as well as through third-party cellular network carriers, wholesalers, retailers and resellers. In addition, the Company sells a variety of third-party Apple-compatible products, including application software and various accessories through its retail and online stores. The Company sells to consumers, small and mid-sized businesses and education, enterprise and government customers.\\n',\n",
              " 'The Company has entered, and in the future may enter, into accelerated share repurchase arrangements (“ASRs”) with financial institutions. In exchange for up-front payments, the financial institutions deliver shares of the Company’s common stock during the purchase periods of each ASR. The total number of shares ultimately delivered, and therefore the average repurchase price paid per share, is determined at the end of the applicable purchase period of each ASR based on the volume-weighted average price of the Company’s common stock during that period. The shares received are retired in the periods they are delivered, and the up-front payments are accounted for as a reduction to shareholders’ equity in the Company’s Condensed Consolidated Balance Sheets in the periods the payments are made. The Company reflects the ASRs as a repurchase of common stock in the period delivered for purposes of calculating earnings per share and as forward contracts indexed to its own common stock. The ASRs met all of the applicable criteria for equity classification, and therefore were not accounted for as derivative instruments.\\n',\n",
              " 'The notional amounts for outstanding derivative instruments provide one measure of the transaction volume outstanding and do not represent the amount of the Company’s exposure to credit or market loss. The credit risk amounts represent the Company’s gross exposure to potential accounting loss on derivative instruments that are outstanding or unsettled if all counterparties failed to perform according to the terms of the contract, based on then-current currency or interest rates at each respective date. The Company’s exposure to credit loss and market risk will vary over time as currency and interest rates change. Although the table above reflects the notional and credit risk amounts of the Company’s derivative instruments, it does not reflect the gains or losses associated with the exposures and transactions that the instruments are intended to hedge. The amounts ultimately realized upon settlement of these financial instruments, together with the gains and losses on the underlying exposures, will depend on actual market conditions during the remaining life of the instruments.\\n',\n",
              " 'The Company generally enters into master netting arrangements, which are designed to reduce credit risk by permitting net settlement of transactions with the same counterparty. To further limit credit risk, the Company generally enters into collateral security arrangements that provide for collateral to be received or posted when the net fair value of certain financial instruments fluctuates from contractually established thresholds. The Company presents its derivative assets and derivative liabilities at their gross fair values in its Condensed Consolidated Balance Sheets. The net cash collateral received by the Company related to derivative instruments under its collateral security arrangements was $230 million and $35 million as of December 30, 2017 and September 30, 2017, respectively, which were recorded as accrued expenses in the Condensed Consolidated Balance Sheets.\\n',\n",
              " 'The Company has implemented systems and processes intended to secure its information technology systems and prevent unauthorized access to or loss of sensitive data, including through the use of encryption and authentication technologies. As with all companies, these security measures may not be sufficient for all eventualities and may be vulnerable to hacking, employee error, malfeasance, system error, faulty password management or other irregularities. For example, third parties may attempt to fraudulently induce employees or customers into disclosing user names, passwords or other sensitive information, which may in turn be used to access the Company’s information technology systems. To help protect customers and the Company, the Company monitors its services and systems for unusual activity and may freeze accounts under suspicious circumstances, which, among other things, may result in the delay or loss of customer orders or impede customer access to the Company’s products and services.\\n',\n",
              " 'The Company manages its business primarily on a geographic basis. The Company’s reportable segments consist of the Americas, Europe, Greater China, Japan and Rest of Asia Pacific. Americas includes both North and South America. Europe includes European countries, as well as India, the Middle East and Africa. Greater China includes China, Hong Kong and Taiwan. Rest of Asia Pacific includes Australia and those Asian countries not included in the Company’s other reportable segments. Although the reportable segments provide similar hardware and software products and similar services, each one is managed separately to better align with the location of the Company’s customers and distribution partners and the unique market dynamics of each geographic region. The accounting policies of the various segments are the same as those described in Note 1, “Summary of Significant Accounting Policies” of the Notes to Consolidated Financial Statements in Part II, Item 8 of the 2017 Form 10-K.\\n',\n",
              " 'With respect to iOS devices, the Company relies on the continued availability and development of compelling and innovative software applications, including applications distributed through the App Store. iOS devices are subject to rapid technological change, and, if third-party developers are unable to or choose not to keep up with this pace of change, third-party applications might not successfully operate and may result in dissatisfied customers. As with applications for the Company’s Mac products, the availability and development of these applications also depend on developers’ perceptions and analysis of the relative benefits of developing, maintaining or upgrading software for the Company’s iOS devices rather than its competitors’ platforms, such as Android. If developers focus their efforts on these competing platforms, the availability and quality of applications for the Company’s iOS devices may suffer.\\n',\n",
              " 'The Company records a write-down for product and component inventories that have become obsolete or exceed anticipated demand or net realizable value and accrues necessary cancellation fee reserves for orders of excess products and components. The Company also reviews its long-lived assets, including capital assets held at its suppliers’ facilities and inventory prepayments, for impairment whenever events or circumstances indicate the carrying amount of an asset may not be recoverable. If the Company determines that impairment has occurred, it records a write-down equal to the amount by which the carrying value of the asset exceeds its fair value. Although the Company believes its provisions related to inventory, capital assets, inventory prepayments and other assets and purchase commitments are currently adequate, no assurance can be given that the Company will not incur additional related charges given the rapid and unpredictable pace of product obsolescence in the industries in which the Company competes.\\n',\n",
              " 'The Company distributes its products through third-party cellular network carriers, wholesalers, retailers and resellers. The Company also sells its products directly to small and mid-sized businesses and education, enterprise and government customers. A substantial majority of the Company’s outstanding trade receivables are not covered by collateral, third-party financing arrangements or credit insurance. The Company’s exposure to credit and collectibility risk on its trade receivables is higher in certain international markets and its ability to mitigate such risks may be limited. The Company also has unsecured vendor non-trade receivables resulting from purchases of components by outsourcing partners and other vendors that manufacture sub-assemblies or assemble final products for the Company. In addition, the Company has made prepayments associated with long-term supply agreements to secure supply of inventory components. As of December 30, 2017, a significant portion of the Company’s trade receivables was concentrated within cellular network carriers, and its vendor non-trade receivables and prepayments related to long-term supply agreements were concentrated among a few individual vendors located primarily in Asia. While the Company has procedures to monitor and limit exposure to credit risk on its trade and vendor non-trade receivables, as well as long-term prepayments, there can be no assurance such procedures will effectively limit its credit risk and avoid losses.\\n']"
            ]
          },
          "metadata": {
            "tags": []
          },
          "execution_count": 26
        }
      ]
    },
    {
      "cell_type": "code",
      "metadata": {
        "id": "2bDaD8QLLPif",
        "colab_type": "code",
        "outputId": "c7833806-50b5-4d06-b6e3-ebb323583c55",
        "colab": {
          "base_uri": "https://localhost:8080/",
          "height": 213
        }
      },
      "source": [
        "def meanshift(doc_text, num_sents):\n",
        "  mean_shift = MeanShift().fit(elmo_train)\n",
        "  # for each cluster, it finds the sentences associated with it,\n",
        "  # and chooses the median one\n",
        "  avg = []\n",
        "  for j in range(num_sents):\n",
        "      idx = np.where(mean_shift.labels_ == j)[0]\n",
        "      avg.append(np.median(idx))\n",
        "  closest, _ = pairwise_distances_argmin_min(mean_shift.cluster_centers_, elmo_train)\n",
        "  ordering = sorted(range(num_sents), key=lambda k: avg[k])\n",
        "  summary = [doc_text[closest[idx]] for idx in ordering]\n",
        "  return summary\n",
        "\n",
        "meanshift(sentences, 10)"
      ],
      "execution_count": 0,
      "outputs": [
        {
          "output_type": "execute_result",
          "data": {
            "text/plain": [
              "['Basic earnings per share is computed by dividing income available to common shareholders by the weighted-average number of shares of common stock outstanding during the period. Diluted earnings per share is computed by dividing income available to common shareholders by the weighted-average number of shares of common stock outstanding during the period increased to include the number of additional shares of common stock that would have been outstanding if the potentially dilutive securities had been issued. Potentially dilutive securities include unvested restricted stock units (“RSUs”), unvested restricted stock, outstanding stock options and shares to be purchased by employees under the Company’s employee stock purchase plan. The dilutive effect of potentially dilutive securities is reflected in diluted earnings per share by application of the treasury stock method. Under the treasury stock method, an increase in the fair market value of the Company’s common stock can result in a greater dilutive effect from potentially dilutive securities.\\n',\n",
              " 'Apple Inc. and its wholly-owned subsidiaries (collectively “Apple” or the “Company”) designs, manufactures and markets mobile communication and media devices and personal computers, and sells a variety of related software, services, accessories, networking solutions and third-party digital content and applications. The Company’s products and services include iPhone®, iPad®, Mac®, Apple Watch®, Apple TV®, a portfolio of consumer and professional software applications, iOS, macOS®, watchOS® and tvOS™ operating systems, iCloud®, Apple Pay® and a variety of accessory, service and support offerings. The Company sells and delivers digital content and applications through the iTunes Store®, App Store®, Mac App Store, TV App Store, iBooks Store® and Apple Music® (collectively “Digital Content and Services”). The Company sells its products worldwide through its retail stores, online stores and direct sales force, as well as through third-party cellular network carriers, wholesalers, retailers and resellers. In addition, the Company sells a variety of third-party Apple-compatible products, including application software and various accessories through its retail and online stores. The Company sells to consumers, small and mid-sized businesses and education, enterprise and government customers.\\n',\n",
              " 'The Company offers an iPhone Upgrade Program, which is available to customers who purchase a qualifying iPhone in the U.S., the U.K. and mainland China. The iPhone Upgrade Program provides customers the right to trade in that iPhone for a specified amount when purchasing a new iPhone, provided certain conditions are met. The Company accounts for the trade-in right as a guarantee liability and recognizes arrangement revenue net of the fair value of such right, with subsequent changes to the guarantee liability recognized within revenue.\\n',\n",
              " 'On August 24, 2012, a jury returned a verdict awarding the Company $1.05 billion in its lawsuit against Samsung Electronics Co., Ltd. and affiliated parties in the United States District Court, Northern District of California, San Jose Division. On March 6, 2014, the District Court entered final judgment in favor of the Company in the amount of approximately $930 million. On May 18, 2015, the U.S. Court of Appeals for the Federal Circuit affirmed in part, and reversed in part, the decision of the District Court. As a result, the Court of Appeals ordered entry of final judgment on damages in the amount of approximately $548 million, with the District Court to determine supplemental damages and interest, as well as damages owed for products subject to the reversal in part. Samsung paid $548 million to the Company in December 2015, which was included in net sales in the Condensed Consolidated Statement of Operations. On December 6, 2016, the U.S. Supreme Court remanded the case to the U.S. Court of Appeals for the Federal Circuit for further proceedings related to the $548 million in damages. On February 7, 2017, the U.S. Court of Appeals for the Federal Circuit remanded the case to the District Court to determine what additional proceedings, if any, are needed. On October 22, 2017, on remand from the U.S. Supreme Court, the District Court ordered a new trial on damages.\\n',\n",
              " 'The Company contracts with numerous third parties to offer their digital content to customers. This includes the right to sell currently available music, movies, TV shows and books. The licensing or other distribution arrangements with these third parties are for relatively short terms and do not guarantee the continuation or renewal of these arrangements on reasonable terms, if at all. Some third-party content providers and distributors currently or in the future may offer competing products and services, and could take action to make it more difficult or impossible for the Company to license or otherwise distribute their content in the future. Other content owners, providers or distributors may seek to limit the Company’s access to, or increase the cost of, such content. The Company may be unable to continue to offer a wide variety of content at reasonable prices with acceptable usage rules, or continue to expand its geographic reach. Failure to obtain the right to make third-party digital content available, or to make such content available on commercially reasonable terms, could have a material adverse impact on the Company’s financial condition and operating results.\\n',\n",
              " 'On August 30, 2016, the European Commission announced its decision that Ireland granted state aid to the Company by providing tax opinions in 1991 and 2007 concerning the tax allocation of profits of the Irish branches of two subsidiaries of the Company (the “State Aid Decision”). The State Aid Decision orders Ireland to calculate and recover additional taxes from the Company for the period June 2003 through December 2014. Irish legislative changes, effective as of January 2015, eliminated the application of the tax opinions from that date forward. The Company believes the State Aid Decision to be without merit and appealed to the General Court of the Court of Justice of the European Union. Ireland has also appealed the State Aid Decision. Although Ireland is still computing the recovery amount, the Company expects the amount to be in line with the European Commission’s announced recovery amount of €13 billion, plus interest of €1 billion. Once the recovery amount is finalized by Ireland, the Company anticipates funding it by placing amounts into escrow in 2018, pending conclusion of all appeals. The Company believes that any incremental Irish corporate income taxes potentially due related to the State Aid Decision would be creditable against U.S. taxes.\\n',\n",
              " 'The Company manages its business primarily on a geographic basis. The Company’s reportable segments consist of the Americas, Europe, Greater China, Japan and Rest of Asia Pacific. Americas includes both North and South America. Europe includes European countries, as well as India, the Middle East and Africa. Greater China includes China, Hong Kong and Taiwan. Rest of Asia Pacific includes Australia and those Asian countries not included in the Company’s other reportable segments. Although the reportable segments provide similar hardware and software products and similar services, each one is managed separately to better align with the location of the Company’s customers and distribution partners and the unique market dynamics of each geographic region. The accounting policies of the various segments are the same as those described in Note 1, “Summary of Significant Accounting Policies” of the Notes to Consolidated Financial Statements in Part II, Item 8 of the 2017 Form 10-K.\\n',\n",
              " 'The Company is subject to federal, state and international laws relating to the collection, use, retention, security and transfer of PII. In many cases, these laws apply not only to third-party transactions, but also may restrict transfers of PII among the Company and its international subsidiaries. Several jurisdictions have passed laws in this area, and other jurisdictions are considering imposing additional restrictions. These laws continue to develop and may be inconsistent from jurisdiction to jurisdiction. Complying with emerging and changing international requirements may cause the Company to incur substantial costs or require the Company to change its business practices. Noncompliance could result in significant penalties or legal liability.\\n',\n",
              " 'The Company’s business is subject to the risks of international operations.\\n',\n",
              " 'During the three months ended December 30, 2017, cash generated by operating activities of $28.3 billion was a result of $20.1 billion of net income and an increase in the net change in operating assets and liabilities of $37.9 billion, partially offset by non-cash adjustments to net income of $29.7 billion. Cash used in investing activities of $13.6 billion during the three months ended December 30, 2017 consisted primarily of cash used for purchases of marketable securities, net of sales and maturities, of $10.4 billion and cash used to acquire property, plant and equipment of $2.8 billion. Cash used in financing activities of $7.5 billion during the three months ended December 30, 2017 consisted primarily of cash used to repurchase common stock of $10.1 billion and cash used to pay dividends and dividend equivalents of $3.3 billion, partially offset by proceeds from the issuance of term debt, net of $7.0 billion.\\n']"
            ]
          },
          "metadata": {
            "tags": []
          },
          "execution_count": 27
        }
      ]
    }
  ]
}